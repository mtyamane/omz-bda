{
 "cells": [
  {
   "cell_type": "code",
   "execution_count": null,
   "metadata": {},
   "outputs": [
    {
     "name": "stdout",
     "output_type": "stream",
     "text": [
      "Algorithm start...\n",
      "working on month: 1\n"
     ]
    }
   ],
   "source": [
    "import numpy as np\n",
    "from OMZBDA import RUN_OMZBDA\n",
    "# output filename\n",
    "out_file = 'omzbda_output.csv'\n",
    "\n",
    "# data input\n",
    "fpath = './data/'\n",
    "fnames = [\n",
    "    'woa18_all_o01_01.nc',\n",
    "    'woa18_all_o02_01.nc',\n",
    "    'woa18_all_o03_01.nc',\n",
    "    'woa18_all_o04_01.nc',\n",
    "    'woa18_all_o05_01.nc',\n",
    "    'woa18_all_o06_01.nc',\n",
    "    'woa18_all_o07_01.nc',\n",
    "    'woa18_all_o08_01.nc',\n",
    "    'woa18_all_o09_01.nc',\n",
    "    'woa18_all_o10_01.nc',\n",
    "    'woa18_all_o11_01.nc',\n",
    "    'woa18_all_o12_01.nc'\n",
    "]\n",
    "\n",
    "target_lats = np.linspace(15,25,6)  # (15 - 25) by 2 degrees (11 for 1 degree)\n",
    "\n",
    "RUN_OMZBDA(fpath, fnames, target_lats, fpath, out_file)"
   ]
  }
 ],
 "metadata": {
  "kernelspec": {
   "display_name": "Python 3",
   "language": "python",
   "name": "python3"
  },
  "language_info": {
   "codemirror_mode": {
    "name": "ipython",
    "version": 3
   },
   "file_extension": ".py",
   "mimetype": "text/x-python",
   "name": "python",
   "nbconvert_exporter": "python",
   "pygments_lexer": "ipython3",
   "version": "3.7.6"
  }
 },
 "nbformat": 4,
 "nbformat_minor": 4
}
