{
 "cells": [
  {
   "cell_type": "markdown",
   "metadata": {},
   "source": [
    "# Exploratory Data Analysis for World Ocean Atlas 2018 Data\n",
    "\n",
    "Mark Yamane, 2/25/2021\n",
    "\n",
    "Research collaborators: Wes Barton, Max Miller, William Vierra\n",
    "\n",
    "EDA and data visualization of dissolved oxygen data from the World Ocean Atlas 2018 dataset."
   ]
  },
  {
   "cell_type": "markdown",
   "metadata": {},
   "source": [
    "## Metadata"
   ]
  },
  {
   "cell_type": "code",
   "execution_count": 1,
   "metadata": {},
   "outputs": [],
   "source": [
    "# import packages\n",
    "from netCDF4 import Dataset\n",
    "import numpy as np"
   ]
  },
  {
   "cell_type": "code",
   "execution_count": 2,
   "metadata": {},
   "outputs": [],
   "source": [
    "# load dataset\n",
    "fpath = 'data/'\n",
    "filename = 'woa18_all_o05_01.nc'\n",
    "ds = Dataset(fpath + filename)"
   ]
  },
  {
   "cell_type": "code",
   "execution_count": 3,
   "metadata": {},
   "outputs": [
    {
     "name": "stdout",
     "output_type": "stream",
     "text": [
      "dict_keys(['crs', 'lat', 'lat_bnds', 'lon', 'lon_bnds', 'depth', 'depth_bnds', 'time', 'climatology_bounds', 'o_an', 'o_mn', 'o_dd', 'o_sd', 'o_se', 'o_oa', 'o_ma', 'o_gp'])\n"
     ]
    }
   ],
   "source": [
    "# keys to access data\n",
    "print(ds.variables.keys())"
   ]
  },
  {
   "cell_type": "code",
   "execution_count": 4,
   "metadata": {},
   "outputs": [
    {
     "name": "stdout",
     "output_type": "stream",
     "text": [
      "<class 'netCDF4._netCDF4.Variable'>\n",
      "float32 lat(lat)\n",
      "    standard_name: latitude\n",
      "    long_name: latitude\n",
      "    units: degrees_north\n",
      "    axis: Y\n",
      "    bounds: lat_bnds\n",
      "unlimited dimensions: \n",
      "current shape = (180,)\n",
      "filling on, default _FillValue of 9.969209968386869e+36 used\n",
      "first value:\t -89.5\n",
      "last value:\t 89.5\n"
     ]
    }
   ],
   "source": [
    "print(ds.variables['lat'])\n",
    "print('first value:\\t', ds.variables['lat'][0])\n",
    "print('last value:\\t', ds.variables['lat'][-1])"
   ]
  },
  {
   "cell_type": "code",
   "execution_count": 5,
   "metadata": {},
   "outputs": [
    {
     "name": "stdout",
     "output_type": "stream",
     "text": [
      "<class 'netCDF4._netCDF4.Variable'>\n",
      "float32 lon(lon)\n",
      "    standard_name: longitude\n",
      "    long_name: longitude\n",
      "    units: degrees_east\n",
      "    axis: X\n",
      "    bounds: lon_bnds\n",
      "unlimited dimensions: \n",
      "current shape = (360,)\n",
      "filling on, default _FillValue of 9.969209968386869e+36 used\n",
      "first value:\t -179.5\n",
      "last value:\t 179.5\n"
     ]
    }
   ],
   "source": [
    "print(ds.variables['lon'])\n",
    "print('first value:\\t', ds.variables['lon'][0])\n",
    "print('last value:\\t', ds.variables['lon'][-1])"
   ]
  },
  {
   "cell_type": "code",
   "execution_count": 6,
   "metadata": {},
   "outputs": [
    {
     "name": "stdout",
     "output_type": "stream",
     "text": [
      "<class 'netCDF4._netCDF4.Variable'>\n",
      "float32 depth(depth)\n",
      "    standard_name: depth\n",
      "    bounds: depth_bnds\n",
      "    positive: down\n",
      "    units: meters\n",
      "    axis: Z\n",
      "unlimited dimensions: \n",
      "current shape = (57,)\n",
      "filling on, default _FillValue of 9.969209968386869e+36 used\n",
      "first value:\t 0.0\n",
      "last value:\t 1500.0\n"
     ]
    }
   ],
   "source": [
    "print(ds.variables['depth'])\n",
    "print('first value:\\t', ds.variables['depth'][0])\n",
    "print('last value:\\t', ds.variables['depth'][-1])"
   ]
  },
  {
   "cell_type": "code",
   "execution_count": 7,
   "metadata": {},
   "outputs": [
    {
     "name": "stdout",
     "output_type": "stream",
     "text": [
      "<class 'netCDF4._netCDF4.Variable'>\n",
      "float32 o_an(time, depth, lat, lon)\n",
      "    standard_name: mole_concentration_of_dissolved_molecular_oxygen_in_sea_water\n",
      "    long_name: Objectively analyzed mean fields for mole_concentration_of_dissolved_molecular_oxygen_in_sea_water at standard depth levels.\n",
      "    coordinates: time lat lon depth\n",
      "    cell_methods: area: mean depth: mean time: mean within years time: mean over years\n",
      "    grid_mapping: crs\n",
      "    units: micromoles_per_kilogram\n",
      "    _FillValue: 9.96921e+36\n",
      "unlimited dimensions: \n",
      "current shape = (1, 57, 180, 360)\n",
      "filling on\n"
     ]
    }
   ],
   "source": [
    "print(ds.variables['o_an'])"
   ]
  },
  {
   "cell_type": "markdown",
   "metadata": {},
   "source": [
    "## Data Visualization"
   ]
  },
  {
   "cell_type": "markdown",
   "metadata": {},
   "source": [
    "### Surface Map at 0m"
   ]
  },
  {
   "cell_type": "code",
   "execution_count": 8,
   "metadata": {},
   "outputs": [],
   "source": [
    "# import packages\n",
    "from netCDF4 import Dataset\n",
    "import numpy as np\n",
    "from matplotlib import pyplot as plt"
   ]
  },
  {
   "cell_type": "code",
   "execution_count": 9,
   "metadata": {},
   "outputs": [],
   "source": [
    "# load dataset\n",
    "fpath = 'data/'\n",
    "filename = 'woa18_all_o01_01.nc'\n",
    "ds = Dataset(fpath+filename)"
   ]
  },
  {
   "cell_type": "code",
   "execution_count": 10,
   "metadata": {},
   "outputs": [
    {
     "name": "stdout",
     "output_type": "stream",
     "text": [
      "(180, 360) \tlats shape\n",
      "(180, 360) \tlons shape\n",
      "(180, 360) \tdO shape\n"
     ]
    }
   ],
   "source": [
    "# pull data\n",
    "lons = ds.variables['lon'][:]    # longitudes (360,)\n",
    "lats = ds.variables['lat'][:]    # latitudes (180,)\n",
    "dO = ds.variables['o_an'][0][0][:][:]\n",
    "\n",
    "# create full grids for each dimension\n",
    "tempLat = []\n",
    "tempLon = []\n",
    "\n",
    "nLons = len(lons)\n",
    "for lat in lats:\n",
    "    tempLat.append(np.full(nLons, lat))\n",
    "    tempLon.append(lons)\n",
    "\n",
    "# cast to numpy arrays for easier handling\n",
    "lats = np.array(tempLat)\n",
    "lons = np.array(tempLon)\n",
    "print(lats.shape, '\\tlats shape')\n",
    "print(lons.shape, '\\tlons shape')\n",
    "print(dO.shape, '\\tdO shape')"
   ]
  },
  {
   "cell_type": "code",
   "execution_count": 50,
   "metadata": {},
   "outputs": [
    {
     "data": {
      "text/plain": [
       "masked_array(data=[--, --, --, --, --, --, --, --, --, --, --, --, --, --,\n",
       "                   --, --, --, --, --, --, --, --, --, 259.9876403808594,\n",
       "                   248.88551330566406, 239.5609588623047,\n",
       "                   231.31561279296875, 224.5319061279297,\n",
       "                   219.792236328125, 217.26409912109375,\n",
       "                   216.00625610351562, 216.49468994140625,\n",
       "                   217.9256591796875, 218.90574645996094,\n",
       "                   219.5370330810547, 219.8887176513672,\n",
       "                   220.04632568359375, 220.21881103515625,\n",
       "                   220.72235107421875, 221.7078094482422,\n",
       "                   223.02622985839844, 224.32386779785156,\n",
       "                   225.26182556152344, 225.70706176757812,\n",
       "                   225.84864807128906, 226.09637451171875,\n",
       "                   226.71963500976562, 227.5399169921875,\n",
       "                   227.9683074951172, 227.48089599609375,\n",
       "                   226.0254669189453, 224.12738037109375,\n",
       "                   222.56179809570312, 221.96615600585938,\n",
       "                   222.43704223632812, 223.64295959472656,\n",
       "                   225.0176239013672, 226.0100860595703,\n",
       "                   226.41299438476562, 226.42063903808594,\n",
       "                   226.47178649902344, 226.92984008789062,\n",
       "                   228.0277862548828, 229.6741485595703,\n",
       "                   231.5572052001953, 233.36529541015625,\n",
       "                   234.93927001953125, 236.49386596679688,\n",
       "                   238.02943420410156, 238.86587524414062,\n",
       "                   239.5269775390625, 239.04026794433594,\n",
       "                   237.46766662597656, 235.5154266357422,\n",
       "                   233.4196014404297, 231.86183166503906,\n",
       "                   231.10293579101562, 230.72525024414062,\n",
       "                   230.01992797851562, 228.398681640625],\n",
       "             mask=[ True,  True,  True,  True,  True,  True,  True,  True,\n",
       "                    True,  True,  True,  True,  True,  True,  True,  True,\n",
       "                    True,  True,  True,  True,  True,  True,  True, False,\n",
       "                   False, False, False, False, False, False, False, False,\n",
       "                   False, False, False, False, False, False, False, False,\n",
       "                   False, False, False, False, False, False, False, False,\n",
       "                   False, False, False, False, False, False, False, False,\n",
       "                   False, False, False, False, False, False, False, False,\n",
       "                   False, False, False, False, False, False, False, False,\n",
       "                   False, False, False, False, False, False, False, False],\n",
       "       fill_value=9.96921e+36,\n",
       "            dtype=float32)"
      ]
     },
     "execution_count": 50,
     "metadata": {},
     "output_type": "execute_result"
    }
   ],
   "source": [
    "dO[0]"
   ]
  },
  {
   "cell_type": "code",
   "execution_count": 11,
   "metadata": {},
   "outputs": [
    {
     "data": {
      "image/png": "[encoded data removed]",
      "text/plain": [
       "<Figure size 669.6x302.4 with 2 Axes>"
      ]
     },
     "metadata": {
      "needs_background": "light"
     },
     "output_type": "display_data"
    }
   ],
   "source": [
    "fig, ax = plt.subplots(figsize=(9.3, 4.2))  # create figure\n",
    "dO_map = plt.contourf(lons, lats, dO)       # create contour plot\n",
    "\n",
    "# labels\n",
    "cbar = plt.colorbar(dO_map)  # add colorbar\n",
    "plt.ylabel('Latitude ($^\\circ$N)')\n",
    "plt.xlabel('Longitude ($^\\circ$E)')\n",
    "cbar.set_label('\\u03BCmol $O_2$ kg$^{-1}$', rotation=270, labelpad=20)\n",
    "plt.show()"
   ]
  },
  {
   "cell_type": "markdown",
   "metadata": {},
   "source": [
    "### Longitudinal Slice"
   ]
  },
  {
   "cell_type": "code",
   "execution_count": 12,
   "metadata": {},
   "outputs": [],
   "source": [
    "# import packages\n",
    "from netCDF4 import Dataset\n",
    "import numpy as np\n",
    "from matplotlib import pyplot as plt"
   ]
  },
  {
   "cell_type": "code",
   "execution_count": 13,
   "metadata": {},
   "outputs": [],
   "source": [
    "# load dataset\n",
    "fpath = 'data/'\n",
    "filename = 'woa18_all_o01_01.nc'\n",
    "ds = Dataset(fpath+filename)"
   ]
  },
  {
   "cell_type": "code",
   "execution_count": 14,
   "metadata": {},
   "outputs": [
    {
     "name": "stdout",
     "output_type": "stream",
     "text": [
      "(180, 360) \tlats shape\n",
      "(180, 360) \tlons shape\n",
      "(180, 57) \tdeps shape (latitudinal slice)\n"
     ]
    }
   ],
   "source": [
    "# pull data\n",
    "lons = ds.variables['lon'][:]    # longitudes (360,)\n",
    "lats = ds.variables['lat'][:]    # latitudes (180,)\n",
    "deps = ds.variables['depth'][:]  # depths (57,)\n",
    "dO = ds.variables['o_an'][0][:][:][:]\n",
    "\n",
    "# create full grids for each dimension\n",
    "tempLat = []\n",
    "tempLon = []\n",
    "tempDep = []\n",
    "\n",
    "nLons = len(lons)\n",
    "for lat in lats:\n",
    "    tempLat.append(np.full(nLons, lat))\n",
    "    tempLon.append(lons)\n",
    "    tempDep.append(deps)\n",
    "\n",
    "# cast to numpy arrays for easier handling\n",
    "lats = np.array(tempLat)\n",
    "lons = np.array(tempLon)\n",
    "deps = np.array(tempDep)\n",
    "print(lats.shape, '\\tlats shape')\n",
    "print(lons.shape, '\\tlons shape')\n",
    "print(deps.shape, '\\tdeps shape (latitudinal slice)')"
   ]
  },
  {
   "cell_type": "code",
   "execution_count": 15,
   "metadata": {},
   "outputs": [],
   "source": [
    "# set index of longitude to perform the slice on\n",
    "i_lon = 0"
   ]
  },
  {
   "cell_type": "code",
   "execution_count": 16,
   "metadata": {},
   "outputs": [],
   "source": [
    "# create full grid for a latitudinal slice w/ depth\n",
    "latVert = []\n",
    "for dep in deps[0,:]:\n",
    "    latVert.append(lats[:,i_lon])"
   ]
  },
  {
   "cell_type": "code",
   "execution_count": 17,
   "metadata": {},
   "outputs": [
    {
     "name": "stdout",
     "output_type": "stream",
     "text": [
      "(57, 180) \tlatVert shape\n",
      "(57, 180) \tdeps shape\n",
      "(57, 180) \tdO_slice shape\n"
     ]
    }
   ],
   "source": [
    "# format data for plot\n",
    "latVert = np.array(latVert)\n",
    "deps = np.transpose(deps)\n",
    "dO_slice = dO[:, :, i_lon]\n",
    "\n",
    "# verify all data have the same shape\n",
    "print(latVert.shape, '\\tlatVert shape')\n",
    "print(deps.shape, '\\tdeps shape')\n",
    "print(dO_slice.shape, '\\tdO_slice shape')"
   ]
  },
  {
   "cell_type": "code",
   "execution_count": 18,
   "metadata": {},
   "outputs": [
    {
     "data": {
      "image/png": "[encoded data removed]",
      "text/plain": [
       "<Figure size 669.6x302.4 with 2 Axes>"
      ]
     },
     "metadata": {
      "needs_background": "light"
     },
     "output_type": "display_data"
    }
   ],
   "source": [
    "fig, ax = plt.subplots(figsize=(9.3, 4.2))      # create figure\n",
    "dO_map = plt.contourf(latVert, deps, dO_slice)  # create contour plot\n",
    "cbar = plt.colorbar(dO_map)  # add colorbar\n",
    "plt.gca().invert_yaxis()     # make depth go down\n",
    "\n",
    "# labels\n",
    "plt.title('Dissolved Oxygen Concentration at ' + str(lons[0,i_lon]) + '$^\\circ$E')\n",
    "plt.ylabel('Depth (m)')\n",
    "plt.xlabel('Latitude ($^\\circ$N)')\n",
    "cbar.set_label('\\u03BCmol $O_2$ kg$^{-1}$', rotation=270, labelpad=20)\n",
    "plt.show()"
   ]
  },
  {
   "cell_type": "markdown",
   "metadata": {},
   "source": [
    "### Latitudinal Slice"
   ]
  },
  {
   "cell_type": "code",
   "execution_count": 19,
   "metadata": {},
   "outputs": [],
   "source": [
    "# import packages\n",
    "from netCDF4 import Dataset\n",
    "import numpy as np\n",
    "from matplotlib import pyplot as plt"
   ]
  },
  {
   "cell_type": "code",
   "execution_count": 20,
   "metadata": {},
   "outputs": [],
   "source": [
    "# load dataset\n",
    "fpath = 'data/'\n",
    "filename = 'woa18_all_o01_01.nc'\n",
    "ds = Dataset(fpath+filename)"
   ]
  },
  {
   "cell_type": "code",
   "execution_count": 21,
   "metadata": {},
   "outputs": [
    {
     "name": "stdout",
     "output_type": "stream",
     "text": [
      "(180, 360) \tlats shape\n",
      "(180, 360) \tlons shape\n",
      "(360, 57) \tdeps shape (latitudinal slice)\n"
     ]
    }
   ],
   "source": [
    "# pull data\n",
    "lons = ds.variables['lon'][:]\n",
    "lats = ds.variables['lat'][:]\n",
    "deps = ds.variables['depth'][:]\n",
    "dO = ds.variables['o_an'][0][:][:][:]\n",
    "\n",
    "# create full grids for each dimension\n",
    "tempLat = []\n",
    "tempLon = []\n",
    "tempDep = []\n",
    "\n",
    "nLons = len(lons)\n",
    "for lat in lats:\n",
    "    tempLat.append(np.full(nLons, lat))\n",
    "    tempLon.append(lons)\n",
    "for lon in lons:\n",
    "    tempDep.append(deps)\n",
    "    \n",
    "# cast to numpy arrays for easier handling\n",
    "lats = np.array(tempLat)\n",
    "lons = np.array(tempLon)\n",
    "deps = np.array(tempDep)\n",
    "print(lats.shape, '\\tlats shape')\n",
    "print(lons.shape, '\\tlons shape')\n",
    "print(deps.shape, '\\tdeps shape (latitudinal slice)')"
   ]
  },
  {
   "cell_type": "code",
   "execution_count": 22,
   "metadata": {},
   "outputs": [],
   "source": [
    "# set index of latitude to perform the slice on\n",
    "i_lat = 110"
   ]
  },
  {
   "cell_type": "code",
   "execution_count": 23,
   "metadata": {},
   "outputs": [],
   "source": [
    "# create full grid for a longitudinal slice w/ depth\n",
    "lonVert = []\n",
    "for dep in deps[0,:]:\n",
    "    lonVert.append(lons[i_lat,:])"
   ]
  },
  {
   "cell_type": "code",
   "execution_count": 24,
   "metadata": {},
   "outputs": [
    {
     "name": "stdout",
     "output_type": "stream",
     "text": [
      "(57, 360) \tlatVert shape\n",
      "(57, 360) \tdeps shape\n",
      "(57, 360) \tdO_slice shape\n"
     ]
    }
   ],
   "source": [
    "# format data for plot\n",
    "lonVert = np.array(lonVert)\n",
    "deps = np.transpose(deps)\n",
    "dO_slice = dO[:, i_lat, :]\n",
    "\n",
    "# verify all data have the same shape\n",
    "print(lonVert.shape, '\\tlatVert shape')\n",
    "print(deps.shape, '\\tdeps shape')\n",
    "print(dO_slice.shape, '\\tdO_slice shape')"
   ]
  },
  {
   "cell_type": "code",
   "execution_count": 25,
   "metadata": {},
   "outputs": [
    {
     "data": {
      "image/png": "[encoded data removed]",
      "text/plain": [
       "<Figure size 669.6x302.4 with 2 Axes>"
      ]
     },
     "metadata": {
      "needs_background": "light"
     },
     "output_type": "display_data"
    }
   ],
   "source": [
    "fig, ax = plt.subplots(figsize=(9.3, 4.2))      # create figure\n",
    "dO_map = plt.contourf(lonVert, deps, dO_slice)  # create contour plot\n",
    "\n",
    "cbar = plt.colorbar(dO_map)  # add colorbar\n",
    "plt.gca().invert_yaxis()     # make depth go down\n",
    "plt.title('Dissolved Oxygen Concentration at ' + str(lats[i_lat,0]) + '$^\\circ$N')\n",
    "plt.ylabel('Depth (m)')\n",
    "plt.xlabel('Longitude ($^\\circ$E)')\n",
    "cbar.set_label('\\u03BCmol O$_2$ kg$^{-1}$', rotation=270, labelpad=20)\n",
    "plt.show()"
   ]
  },
  {
   "cell_type": "markdown",
   "metadata": {},
   "source": [
    "### Center at Pacific Ocean\n",
    "\n",
    "Look at longitudes from 0 to 360?"
   ]
  },
  {
   "cell_type": "code",
   "execution_count": 26,
   "metadata": {},
   "outputs": [
    {
     "name": "stdout",
     "output_type": "stream",
     "text": [
      "(57, 360)\n"
     ]
    }
   ],
   "source": [
    "print(lonVert.shape)"
   ]
  },
  {
   "cell_type": "code",
   "execution_count": 27,
   "metadata": {},
   "outputs": [
    {
     "name": "stdout",
     "output_type": "stream",
     "text": [
      "[-179.5 -178.5 -177.5 -176.5 -175.5 -174.5 -173.5 -172.5 -171.5 -170.5\n",
      " -169.5 -168.5 -167.5 -166.5 -165.5 -164.5 -163.5 -162.5 -161.5 -160.5\n",
      " -159.5 -158.5 -157.5 -156.5 -155.5 -154.5 -153.5 -152.5 -151.5 -150.5\n",
      " -149.5 -148.5 -147.5 -146.5 -145.5 -144.5 -143.5 -142.5 -141.5 -140.5\n",
      " -139.5 -138.5 -137.5 -136.5 -135.5 -134.5 -133.5 -132.5 -131.5 -130.5\n",
      " -129.5 -128.5 -127.5 -126.5 -125.5 -124.5 -123.5 -122.5 -121.5 -120.5\n",
      " -119.5 -118.5 -117.5 -116.5 -115.5 -114.5 -113.5 -112.5 -111.5 -110.5\n",
      " -109.5 -108.5 -107.5 -106.5 -105.5 -104.5 -103.5 -102.5 -101.5 -100.5\n",
      "  -99.5  -98.5  -97.5  -96.5  -95.5  -94.5  -93.5  -92.5  -91.5  -90.5\n",
      "  -89.5  -88.5  -87.5  -86.5  -85.5  -84.5  -83.5  -82.5  -81.5  -80.5\n",
      "  -79.5  -78.5  -77.5  -76.5  -75.5  -74.5  -73.5  -72.5  -71.5  -70.5\n",
      "  -69.5  -68.5  -67.5  -66.5  -65.5  -64.5  -63.5  -62.5  -61.5  -60.5\n",
      "  -59.5  -58.5  -57.5  -56.5  -55.5  -54.5  -53.5  -52.5  -51.5  -50.5\n",
      "  -49.5  -48.5  -47.5  -46.5  -45.5  -44.5  -43.5  -42.5  -41.5  -40.5\n",
      "  -39.5  -38.5  -37.5  -36.5  -35.5  -34.5  -33.5  -32.5  -31.5  -30.5\n",
      "  -29.5  -28.5  -27.5  -26.5  -25.5  -24.5  -23.5  -22.5  -21.5  -20.5\n",
      "  -19.5  -18.5  -17.5  -16.5  -15.5  -14.5  -13.5  -12.5  -11.5  -10.5\n",
      "   -9.5   -8.5   -7.5   -6.5   -5.5   -4.5   -3.5   -2.5   -1.5   -0.5\n",
      "    0.5    1.5    2.5    3.5    4.5    5.5    6.5    7.5    8.5    9.5\n",
      "   10.5   11.5   12.5   13.5   14.5   15.5   16.5   17.5   18.5   19.5\n",
      "   20.5   21.5   22.5   23.5   24.5   25.5   26.5   27.5   28.5   29.5\n",
      "   30.5   31.5   32.5   33.5   34.5   35.5   36.5   37.5   38.5   39.5\n",
      "   40.5   41.5   42.5   43.5   44.5   45.5   46.5   47.5   48.5   49.5\n",
      "   50.5   51.5   52.5   53.5   54.5   55.5   56.5   57.5   58.5   59.5\n",
      "   60.5   61.5   62.5   63.5   64.5   65.5   66.5   67.5   68.5   69.5\n",
      "   70.5   71.5   72.5   73.5   74.5   75.5   76.5   77.5   78.5   79.5\n",
      "   80.5   81.5   82.5   83.5   84.5   85.5   86.5   87.5   88.5   89.5\n",
      "   90.5   91.5   92.5   93.5   94.5   95.5   96.5   97.5   98.5   99.5\n",
      "  100.5  101.5  102.5  103.5  104.5  105.5  106.5  107.5  108.5  109.5\n",
      "  110.5  111.5  112.5  113.5  114.5  115.5  116.5  117.5  118.5  119.5\n",
      "  120.5  121.5  122.5  123.5  124.5  125.5  126.5  127.5  128.5  129.5\n",
      "  130.5  131.5  132.5  133.5  134.5  135.5  136.5  137.5  138.5  139.5\n",
      "  140.5  141.5  142.5  143.5  144.5  145.5  146.5  147.5  148.5  149.5\n",
      "  150.5  151.5  152.5  153.5  154.5  155.5  156.5  157.5  158.5  159.5\n",
      "  160.5  161.5  162.5  163.5  164.5  165.5  166.5  167.5  168.5  169.5\n",
      "  170.5  171.5  172.5  173.5  174.5  175.5  176.5  177.5  178.5  179.5]\n"
     ]
    }
   ],
   "source": [
    "print(lonVert[0])"
   ]
  },
  {
   "cell_type": "code",
   "execution_count": 28,
   "metadata": {},
   "outputs": [
    {
     "name": "stdout",
     "output_type": "stream",
     "text": [
      "[180.5 181.5 182.5 183.5 184.5 185.5 186.5 187.5 188.5 189.5 190.5 191.5\n",
      " 192.5 193.5 194.5 195.5 196.5 197.5 198.5 199.5 200.5 201.5 202.5 203.5\n",
      " 204.5 205.5 206.5 207.5 208.5 209.5 210.5 211.5 212.5 213.5 214.5 215.5\n",
      " 216.5 217.5 218.5 219.5 220.5 221.5 222.5 223.5 224.5 225.5 226.5 227.5\n",
      " 228.5 229.5 230.5 231.5 232.5 233.5 234.5 235.5 236.5 237.5 238.5 239.5\n",
      " 240.5 241.5 242.5 243.5 244.5 245.5 246.5 247.5 248.5 249.5 250.5 251.5\n",
      " 252.5 253.5 254.5 255.5 256.5 257.5 258.5 259.5 260.5 261.5 262.5 263.5\n",
      " 264.5 265.5 266.5 267.5 268.5 269.5 270.5 271.5 272.5 273.5 274.5 275.5\n",
      " 276.5 277.5 278.5 279.5 280.5 281.5 282.5 283.5 284.5 285.5 286.5 287.5\n",
      " 288.5 289.5 290.5 291.5 292.5 293.5 294.5 295.5 296.5 297.5 298.5 299.5\n",
      " 300.5 301.5 302.5 303.5 304.5 305.5 306.5 307.5 308.5 309.5 310.5 311.5\n",
      " 312.5 313.5 314.5 315.5 316.5 317.5 318.5 319.5 320.5 321.5 322.5 323.5\n",
      " 324.5 325.5 326.5 327.5 328.5 329.5 330.5 331.5 332.5 333.5 334.5 335.5\n",
      " 336.5 337.5 338.5 339.5 340.5 341.5 342.5 343.5 344.5 345.5 346.5 347.5\n",
      " 348.5 349.5 350.5 351.5 352.5 353.5 354.5 355.5 356.5 357.5 358.5 359.5\n",
      "   0.5   1.5   2.5   3.5   4.5   5.5   6.5   7.5   8.5   9.5  10.5  11.5\n",
      "  12.5  13.5  14.5  15.5  16.5  17.5  18.5  19.5  20.5  21.5  22.5  23.5\n",
      "  24.5  25.5  26.5  27.5  28.5  29.5  30.5  31.5  32.5  33.5  34.5  35.5\n",
      "  36.5  37.5  38.5  39.5  40.5  41.5  42.5  43.5  44.5  45.5  46.5  47.5\n",
      "  48.5  49.5  50.5  51.5  52.5  53.5  54.5  55.5  56.5  57.5  58.5  59.5\n",
      "  60.5  61.5  62.5  63.5  64.5  65.5  66.5  67.5  68.5  69.5  70.5  71.5\n",
      "  72.5  73.5  74.5  75.5  76.5  77.5  78.5  79.5  80.5  81.5  82.5  83.5\n",
      "  84.5  85.5  86.5  87.5  88.5  89.5  90.5  91.5  92.5  93.5  94.5  95.5\n",
      "  96.5  97.5  98.5  99.5 100.5 101.5 102.5 103.5 104.5 105.5 106.5 107.5\n",
      " 108.5 109.5 110.5 111.5 112.5 113.5 114.5 115.5 116.5 117.5 118.5 119.5\n",
      " 120.5 121.5 122.5 123.5 124.5 125.5 126.5 127.5 128.5 129.5 130.5 131.5\n",
      " 132.5 133.5 134.5 135.5 136.5 137.5 138.5 139.5 140.5 141.5 142.5 143.5\n",
      " 144.5 145.5 146.5 147.5 148.5 149.5 150.5 151.5 152.5 153.5 154.5 155.5\n",
      " 156.5 157.5 158.5 159.5 160.5 161.5 162.5 163.5 164.5 165.5 166.5 167.5\n",
      " 168.5 169.5 170.5 171.5 172.5 173.5 174.5 175.5 176.5 177.5 178.5 179.5]\n"
     ]
    }
   ],
   "source": [
    "for i in range(len(lonVert)):\n",
    "    for j in range(len(lonVert[0,:])):\n",
    "        if lonVert[i,j] < 0:\n",
    "            lonVert[i,j] += 360\n",
    "print(lonVert[0])"
   ]
  },
  {
   "cell_type": "code",
   "execution_count": 29,
   "metadata": {},
   "outputs": [
    {
     "name": "stdout",
     "output_type": "stream",
     "text": [
      "[  0.5   1.5   2.5   3.5   4.5   5.5   6.5   7.5   8.5   9.5  10.5  11.5\n",
      "  12.5  13.5  14.5  15.5  16.5  17.5  18.5  19.5  20.5  21.5  22.5  23.5\n",
      "  24.5  25.5  26.5  27.5  28.5  29.5  30.5  31.5  32.5  33.5  34.5  35.5\n",
      "  36.5  37.5  38.5  39.5  40.5  41.5  42.5  43.5  44.5  45.5  46.5  47.5\n",
      "  48.5  49.5  50.5  51.5  52.5  53.5  54.5  55.5  56.5  57.5  58.5  59.5\n",
      "  60.5  61.5  62.5  63.5  64.5  65.5  66.5  67.5  68.5  69.5  70.5  71.5\n",
      "  72.5  73.5  74.5  75.5  76.5  77.5  78.5  79.5  80.5  81.5  82.5  83.5\n",
      "  84.5  85.5  86.5  87.5  88.5  89.5  90.5  91.5  92.5  93.5  94.5  95.5\n",
      "  96.5  97.5  98.5  99.5 100.5 101.5 102.5 103.5 104.5 105.5 106.5 107.5\n",
      " 108.5 109.5 110.5 111.5 112.5 113.5 114.5 115.5 116.5 117.5 118.5 119.5\n",
      " 120.5 121.5 122.5 123.5 124.5 125.5 126.5 127.5 128.5 129.5 130.5 131.5\n",
      " 132.5 133.5 134.5 135.5 136.5 137.5 138.5 139.5 140.5 141.5 142.5 143.5\n",
      " 144.5 145.5 146.5 147.5 148.5 149.5 150.5 151.5 152.5 153.5 154.5 155.5\n",
      " 156.5 157.5 158.5 159.5 160.5 161.5 162.5 163.5 164.5 165.5 166.5 167.5\n",
      " 168.5 169.5 170.5 171.5 172.5 173.5 174.5 175.5 176.5 177.5 178.5 179.5\n",
      " 180.5 181.5 182.5 183.5 184.5 185.5 186.5 187.5 188.5 189.5 190.5 191.5\n",
      " 192.5 193.5 194.5 195.5 196.5 197.5 198.5 199.5 200.5 201.5 202.5 203.5\n",
      " 204.5 205.5 206.5 207.5 208.5 209.5 210.5 211.5 212.5 213.5 214.5 215.5\n",
      " 216.5 217.5 218.5 219.5 220.5 221.5 222.5 223.5 224.5 225.5 226.5 227.5\n",
      " 228.5 229.5 230.5 231.5 232.5 233.5 234.5 235.5 236.5 237.5 238.5 239.5\n",
      " 240.5 241.5 242.5 243.5 244.5 245.5 246.5 247.5 248.5 249.5 250.5 251.5\n",
      " 252.5 253.5 254.5 255.5 256.5 257.5 258.5 259.5 260.5 261.5 262.5 263.5\n",
      " 264.5 265.5 266.5 267.5 268.5 269.5 270.5 271.5 272.5 273.5 274.5 275.5\n",
      " 276.5 277.5 278.5 279.5 280.5 281.5 282.5 283.5 284.5 285.5 286.5 287.5\n",
      " 288.5 289.5 290.5 291.5 292.5 293.5 294.5 295.5 296.5 297.5 298.5 299.5\n",
      " 300.5 301.5 302.5 303.5 304.5 305.5 306.5 307.5 308.5 309.5 310.5 311.5\n",
      " 312.5 313.5 314.5 315.5 316.5 317.5 318.5 319.5 320.5 321.5 322.5 323.5\n",
      " 324.5 325.5 326.5 327.5 328.5 329.5 330.5 331.5 332.5 333.5 334.5 335.5\n",
      " 336.5 337.5 338.5 339.5 340.5 341.5 342.5 343.5 344.5 345.5 346.5 347.5\n",
      " 348.5 349.5 350.5 351.5 352.5 353.5 354.5 355.5 356.5 357.5 358.5 359.5]\n"
     ]
    }
   ],
   "source": [
    "# sort\n",
    "temp = 0\n",
    "for i in range(len(lonVert)):\n",
    "    for j in range(180):\n",
    "        temp = lonVert[i, j+180]\n",
    "        lonVert[i, j+180] = lonVert[i,j]\n",
    "        lonVert[i, j] = temp\n",
    "        temp = dO_slice[i, j+180]\n",
    "        dO_slice[i, j+180] = dO_slice[i,j]\n",
    "        dO_slice[i,j] = temp\n",
    "print(lonVert[0])"
   ]
  },
  {
   "cell_type": "code",
   "execution_count": 31,
   "metadata": {},
   "outputs": [
    {
     "data": {
      "image/png": "[encoded data removed]",
      "text/plain": [
       "<Figure size 669.6x302.4 with 2 Axes>"
      ]
     },
     "metadata": {
      "needs_background": "light"
     },
     "output_type": "display_data"
    }
   ],
   "source": [
    "breaks = np.linspace(0, 280, 15)\n",
    "\n",
    "fig, ax = plt.subplots(figsize=(9.3, 4.2))      # create figure\n",
    "dO_map = plt.contourf(lonVert, deps, dO_slice, breaks)  # create contour plot\n",
    "\n",
    "cbar = plt.colorbar(dO_map, ticks=breaks)  # add colorbar\n",
    "plt.gca().invert_yaxis()     # make depth go down\n",
    "plt.title('Dissolved Oxygen Concentration at ' + str(lats[i_lat,0]) + '$^\\circ$N')\n",
    "plt.ylabel('Depth (m)')\n",
    "plt.xlabel('Longitude ($^\\circ$E)')\n",
    "cbar.set_label('\\u03BCmol O$_2$ kg$^{-1}$', rotation=270, labelpad=20)\n",
    "plt.show()"
   ]
  },
  {
   "cell_type": "code",
   "execution_count": 44,
   "metadata": {},
   "outputs": [
    {
     "name": "stdout",
     "output_type": "stream",
     "text": [
      "[False False False False False False False False False False False False\n",
      " False False False False False False False False False False False False\n",
      " False False False False False False False False False False False False\n",
      " False False False False False False False False False False False False\n",
      " False False False False False False False False False False False False\n",
      " False False False False False False False False False False False False\n",
      " False False False False False False False False False False False False\n",
      " False False False False False False False False False False False False\n",
      " False False False False  True  True  True  True  True  True  True  True\n",
      "  True  True  True  True  True  True  True  True  True  True  True  True\n",
      "  True  True  True  True  True  True  True  True  True  True  True  True\n",
      "  True  True  True  True  True  True  True  True  True  True  True  True\n",
      "  True  True  True  True  True  True  True  True  True  True  True  True\n",
      "  True  True  True  True  True  True  True  True  True  True  True  True\n",
      "  True  True  True  True  True  True  True  True  True  True  True  True\n",
      "  True  True  True  True  True  True  True  True  True  True  True  True\n",
      "  True  True  True  True  True  True  True  True  True  True  True  True\n",
      "  True  True  True  True  True  True  True  True  True  True  True  True\n",
      "  True  True  True  True  True  True  True  True  True  True  True  True\n",
      "  True  True  True  True  True  True  True  True  True  True  True  True\n",
      "  True  True  True  True  True  True  True  True  True  True  True  True\n",
      "  True  True  True  True  True  True  True  True False False False False\n",
      " False False False False False False False False False False False False\n",
      " False False False False False False False False False False False False\n",
      " False False False False False False False False False False False False\n",
      " False False False False False False False False False False False False\n",
      " False False False False False False False False False False False False\n",
      " False False False False False False False False False False False False\n",
      " False False False False False False False False False False False False\n",
      " False False False False False False False False False False False False]\n"
     ]
    }
   ],
   "source": [
    "# mask to keep only lons of the Pacific\n",
    "pacific_mask = (lonVert[0] > 100) & (lonVert[0] < 260)\n",
    "new_lon = []\n",
    "new_dep = []\n",
    "new_dO = []\n",
    "for i in range(len(lonVert)):\n",
    "    new_lon.append(lonVert[i][pacific_mask])\n",
    "    new_dep.append(deps[i][pacific_mask])\n",
    "    new_dO.append(dO_slice[i][pacific_mask])\n",
    "print(pacific_mask)"
   ]
  },
  {
   "cell_type": "code",
   "execution_count": 46,
   "metadata": {},
   "outputs": [
    {
     "data": {
      "image/png": "[encoded data removed]",
      "text/plain": [
       "<Figure size 1080x302.4 with 2 Axes>"
      ]
     },
     "metadata": {
      "needs_background": "light"
     },
     "output_type": "display_data"
    }
   ],
   "source": [
    "breaks = np.linspace(0, 280, 15)\n",
    "\n",
    "fig, ax = plt.subplots(figsize=(15, 4.2))      # create figure\n",
    "\n",
    "dO_map = plt.contourf(new_lon, new_dep, new_dO, breaks)  # create contour plot\n",
    "\n",
    "cbar = plt.colorbar(dO_map, ticks=breaks)  # add colorbar\n",
    "plt.gca().invert_yaxis()     # make depth go down\n",
    "plt.title('Dissolved Oxygen Concentration at ' + str(lats[i_lat,0]) + '$^\\circ$N')\n",
    "plt.ylabel('Depth (m)')\n",
    "plt.xlabel('Longitude ($^\\circ$E)')\n",
    "cbar.set_label('\\u03BCmol O$_2$ kg$^{-1}$', rotation=270, labelpad=20)\n",
    "plt.show()"
   ]
  }
 ],
 "metadata": {
  "kernelspec": {
   "display_name": "Python 3",
   "language": "python",
   "name": "python3"
  },
  "language_info": {
   "codemirror_mode": {
    "name": "ipython",
    "version": 3
   },
   "file_extension": ".py",
   "mimetype": "text/x-python",
   "name": "python",
   "nbconvert_exporter": "python",
   "pygments_lexer": "ipython3",
   "version": "3.7.6"
  }
 },
 "nbformat": 4,
 "nbformat_minor": 4
}
